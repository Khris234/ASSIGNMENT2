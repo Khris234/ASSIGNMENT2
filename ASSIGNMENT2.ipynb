{
 "cells": [
  {
   "cell_type": "code",
   "execution_count": 18,
   "id": "c1998bef",
   "metadata": {},
   "outputs": [],
   "source": [
    "def Delivery():\n",
    "    oneWeek=6\n",
    "    sixDays=100\n",
    "    threeMonths=78\n",
    "    fuelForThreeMonth= sixDays * threeMonths / oneWeek\n",
    "    print(\"Fuel for three month(78days) = \", fuelForThreeMonth)\n",
    "  "
   ]
  },
  {
   "cell_type": "code",
   "execution_count": 19,
   "id": "6a2d144f",
   "metadata": {},
   "outputs": [
    {
     "name": "stdout",
     "output_type": "stream",
     "text": [
      "Fuel for three month(78days) =  1300.0\n"
     ]
    }
   ],
   "source": [
    "Delivery()"
   ]
  },
  {
   "cell_type": "code",
   "execution_count": null,
   "id": "9ec0c633",
   "metadata": {},
   "outputs": [],
   "source": []
  }
 ],
 "metadata": {
  "kernelspec": {
   "display_name": "Python 3 (ipykernel)",
   "language": "python",
   "name": "python3"
  },
  "language_info": {
   "codemirror_mode": {
    "name": "ipython",
    "version": 3
   },
   "file_extension": ".py",
   "mimetype": "text/x-python",
   "name": "python",
   "nbconvert_exporter": "python",
   "pygments_lexer": "ipython3",
   "version": "3.11.1"
  }
 },
 "nbformat": 4,
 "nbformat_minor": 5
}
